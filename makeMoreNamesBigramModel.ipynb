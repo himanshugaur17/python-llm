{
  "nbformat": 4,
  "nbformat_minor": 0,
  "metadata": {
    "colab": {
      "provenance": [],
      "mount_file_id": "1gdyTuf8OKk6s3kEl-6RG2PNz9nhNuZ7L",
      "authorship_tag": "ABX9TyM3cDOpCXee4mlPDnCuS4kN",
      "include_colab_link": true
    },
    "kernelspec": {
      "name": "python3",
      "display_name": "Python 3"
    },
    "language_info": {
      "name": "python"
    }
  },
  "cells": [
    {
      "cell_type": "markdown",
      "metadata": {
        "id": "view-in-github",
        "colab_type": "text"
      },
      "source": [
        "<a href=\"https://colab.research.google.com/github/himanshugaur17/python-llm/blob/main/makeMoreNamesBigramModel.ipynb\" target=\"_parent\"><img src=\"https://colab.research.google.com/assets/colab-badge.svg\" alt=\"Open In Colab\"/></a>"
      ]
    },
    {
      "cell_type": "code",
      "execution_count": 4,
      "metadata": {
        "id": "xwdLmFWr044l",
        "colab": {
          "base_uri": "https://localhost:8080/"
        },
        "outputId": "350134fa-7a0c-405a-a05e-1f7502584a27"
      },
      "outputs": [
        {
          "output_type": "stream",
          "name": "stdout",
          "text": [
            "Mounted at /gdrive\n"
          ]
        }
      ],
      "source": [
        "from google.colab import drive\n",
        "drive.mount('/gdrive')"
      ]
    },
    {
      "cell_type": "code",
      "source": [
        "names=open('/gdrive/MyDrive/names.txt','r').read().splitlines()\n",
        "print(names[:2])\n",
        "list(names[0])[1:]"
      ],
      "metadata": {
        "colab": {
          "base_uri": "https://localhost:8080/"
        },
        "id": "CC20a6kJ2TRD",
        "outputId": "4df72f23-d632-48cb-968d-4fb6b8b369b0"
      },
      "execution_count": 9,
      "outputs": [
        {
          "output_type": "stream",
          "name": "stdout",
          "text": [
            "['emma', 'olivia']\n"
          ]
        },
        {
          "output_type": "execute_result",
          "data": {
            "text/plain": [
              "['m', 'm', 'a']"
            ]
          },
          "metadata": {},
          "execution_count": 9
        }
      ]
    },
    {
      "cell_type": "markdown",
      "source": [
        "I will be creating a bigram model to generate new words. The bigram model will predict the next character based on the immediate previous character."
      ],
      "metadata": {
        "id": "Q-0jRZyR3dXr"
      }
    },
    {
      "cell_type": "code",
      "source": [
        "dict={}\n",
        "for name in names[:20]:\n",
        "  for ch1, ch2 in zip(list(name),list(name)[1:]): #Zip doing the same stuff, pairing and creating tuples until any of the iterable gets exhausted\n",
        "    dict[(ch1,ch2)]=dict.get((ch1,ch2),0)+1\n",
        "sorted(dict.items(), key=lambda k:-k[1]) #dict.items() it returns a tuple(key, value)"
      ],
      "metadata": {
        "colab": {
          "base_uri": "https://localhost:8080/"
        },
        "id": "uadK2skB3sT9",
        "outputId": "13f48a67-daaf-4200-a3ba-43958d1cf322"
      },
      "execution_count": 25,
      "outputs": [
        {
          "output_type": "execute_result",
          "data": {
            "text/plain": [
              "[(('i', 'a'), 6),\n",
              " (('e', 'l'), 5),\n",
              " (('l', 'a'), 4),\n",
              " (('a', 'r'), 4),\n",
              " (('m', 'i'), 4),\n",
              " (('i', 'l'), 4),\n",
              " (('l', 'i'), 3),\n",
              " (('a', 'b'), 3),\n",
              " (('e', 'm'), 2),\n",
              " (('a', 'v'), 2),\n",
              " (('b', 'e'), 2),\n",
              " (('l', 'l'), 2),\n",
              " (('s', 'o'), 2),\n",
              " (('h', 'a'), 2),\n",
              " (('r', 'l'), 2),\n",
              " (('t', 't'), 2),\n",
              " (('a', 'm'), 2),\n",
              " (('e', 'r'), 2),\n",
              " (('v', 'e'), 2),\n",
              " (('l', 'y'), 2),\n",
              " (('e', 't'), 2),\n",
              " (('c', 'a'), 2),\n",
              " (('m', 'm'), 1),\n",
              " (('m', 'a'), 1),\n",
              " (('o', 'l'), 1),\n",
              " (('i', 'v'), 1),\n",
              " (('v', 'i'), 1),\n",
              " (('v', 'a'), 1),\n",
              " (('i', 's'), 1),\n",
              " (('s', 'a'), 1),\n",
              " (('o', 'p'), 1),\n",
              " (('p', 'h'), 1),\n",
              " (('h', 'i'), 1),\n",
              " (('c', 'h'), 1),\n",
              " (('l', 'o'), 1),\n",
              " (('o', 't'), 1),\n",
              " (('t', 'e'), 1),\n",
              " (('m', 'e'), 1),\n",
              " (('r', 'p'), 1),\n",
              " (('p', 'e'), 1),\n",
              " (('e', 'v'), 1),\n",
              " (('y', 'n'), 1),\n",
              " (('b', 'i'), 1),\n",
              " (('i', 'g'), 1),\n",
              " (('g', 'a'), 1),\n",
              " (('a', 'i'), 1),\n",
              " (('i', 'z'), 1),\n",
              " (('z', 'a'), 1),\n",
              " (('t', 'h'), 1),\n",
              " (('r', 'y'), 1),\n",
              " (('o', 'f'), 1),\n",
              " (('f', 'i'), 1),\n",
              " (('r', 'i'), 1),\n",
              " (('s', 'c'), 1),\n",
              " (('l', 'e'), 1)]"
            ]
          },
          "metadata": {},
          "execution_count": 25
        }
      ]
    },
    {
      "cell_type": "code",
      "source": [],
      "metadata": {
        "id": "wYTQkaDC4keQ"
      },
      "execution_count": null,
      "outputs": []
    }
  ]
}